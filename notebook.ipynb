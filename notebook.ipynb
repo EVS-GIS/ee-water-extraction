{
 "cells": [
  {
   "cell_type": "markdown",
   "metadata": {},
   "source": [
    "# Example notebook to use the ee-water-extraction tool\n",
    "\n",
    "First, you need to create a Google Cloud Project with the EarthEngine API enabled. \n",
    "Then create a service account with the EarthEngine Viewer role, and download a login json key for this service account. \n",
    "\n",
    "## Login to Google Cloud\n",
    "\n",
    "The next cell load Earth Engine package and login to the API using the service account."
   ]
  },
  {
   "cell_type": "code",
   "execution_count": null,
   "metadata": {
    "tags": []
   },
   "outputs": [],
   "source": [
    "import ee\n",
    "\n",
    "credentials = ee.ServiceAccountCredentials('ee-water-extraction@earthengine-371715.iam.gserviceaccount.com', \n",
    "                                           './earthengine-key.json')\n",
    "ee.Initialize(credentials)"
   ]
  },
  {
   "cell_type": "markdown",
   "metadata": {},
   "source": [
    "## Classical usage workflow\n",
    "### Import the required packages"
   ]
  },
  {
   "cell_type": "code",
   "execution_count": null,
   "metadata": {
    "tags": []
   },
   "outputs": [],
   "source": [
    "import geemap\n",
    "\n",
    "from eewaterextraction import data_management\n",
    "from eewaterextraction import classification\n",
    "from eewaterextraction import visualization\n",
    "from eewaterextraction import dgo_metrics\n",
    "\n",
    "# The next lines are useful if you make modifications in the module files and want to reload it without restarting the notebook kernel\n",
    "import importlib\n",
    "importlib.reload(data_management)\n",
    "importlib.reload(classification)\n",
    "importlib.reload(visualization)\n",
    "importlib.reload(dgo_metrics)"
   ]
  },
  {
   "cell_type": "markdown",
   "metadata": {},
   "source": [
    "### Upload the DGOs to GEE\n",
    "#### Option 1 \n",
    "If you have less than 100 DGOs, you can directly upload them with `geemap`."
   ]
  },
  {
   "cell_type": "code",
   "execution_count": null,
   "metadata": {
    "tags": []
   },
   "outputs": [],
   "source": [
    "# Set the local DGO file path\n",
    "dgo_shapefile_path = './example_data/Lhasa_RC_DGO2km_updated_gcs.shp'\n",
    "\n",
    "# Upload it to GEE\n",
    "dgo_shp = geemap.shp_to_ee(dgo_shapefile_path)"
   ]
  },
  {
   "cell_type": "markdown",
   "metadata": {},
   "source": [
    "#### Option 2\n",
    "If you have more than 100 DGOs, you will have to upload them as an asset (in https://code.earthengine.google.com/ for example). Then load it with the next cell."
   ]
  },
  {
   "cell_type": "code",
   "execution_count": null,
   "metadata": {
    "tags": []
   },
   "outputs": [],
   "source": [
    "dgo_shp = ee.FeatureCollection('projects/earthengine-371715/assets/Yamuna_segm_2km_EPSG_900913')"
   ]
  },
  {
   "cell_type": "markdown",
   "metadata": {},
   "source": [
    "### Classify images"
   ]
  },
  {
   "cell_type": "code",
   "execution_count": null,
   "metadata": {
    "tags": []
   },
   "outputs": [],
   "source": [
    "# Create a region of interset (union of all the DGOs)\n",
    "roi = dgo_shp.union(1)\n",
    "\n",
    "# Get the landsat image collection for your ROI\n",
    "collection = data_management.getLandsatCollection(start=ee.Date('1980-01-01'), \n",
    "                                                  end=ee.Date('2030-12-31'), \n",
    "                                                  cloud_filter=80, # Maximum cloud coverage accepted (%)\n",
    "                                                  cloud_masking=True, # Set to False if you don't want to mask the clouds on accepted images\n",
    "                                                  roi=roi)\n",
    "\n",
    "# Calculate MNDWI, NDVI and NDWI\n",
    "collection = classification.calculateIndicators(collection)\n",
    "\n",
    "# Classify the objects using the indicators\n",
    "collection = classification.classifyObjects(collection)"
   ]
  },
  {
   "cell_type": "markdown",
   "metadata": {},
   "source": [
    "### Layers visualisation\n",
    "\n",
    "At this point of the workflow, you can create an interactive map for an individual landsat image to check all the previously calculated layers.\n",
    "This feature is only available in a jupyter notebook.\n",
    "\n",
    "If you have more than 100 DGOs, this will not be functional (work in progress)."
   ]
  },
  {
   "cell_type": "code",
   "execution_count": null,
   "metadata": {
    "tags": []
   },
   "outputs": [],
   "source": [
    "from ipywidgets import interact, fixed\n",
    "\n",
    "# Get the landsat_product_id of the collection\n",
    "landsat_ids = collection.aggregate_array('LANDSAT_PRODUCT_ID').getInfo()\n",
    "\n",
    "map = interact(visualization.imageVisualization, \n",
    "         collection=fixed(collection), \n",
    "         dgo_shp=fixed(dgo_shp), \n",
    "         landsat_id=landsat_ids)\n",
    "\n",
    "# Show the map in the notebook output\n",
    "map"
   ]
  },
  {
   "cell_type": "markdown",
   "metadata": {
    "tags": []
   },
   "source": [
    "### Download layers\n",
    "\n",
    "If your ROI is not too big, it's possible to download the layers to your local disk. See below the content of each output band.\n",
    "\n",
    "| band number | content |   \n",
    "|---|---|\n",
    "| 1 | blue |\n",
    "| 2 | green |\n",
    "| 3 | red |\n",
    "| 4 | nir |\n",
    "| 5 | swir1 |\n",
    "| 6 | swir2 |\n",
    "| 7 | qa_pixel |\n",
    "| 8 | mndwi |\n",
    "| 9 | ndvi |\n",
    "| 10 | ndwi |\n",
    "| 11 | water |\n",
    "| 12 | vegetation |\n",
    "| 13 | active channel |\n"
   ]
  },
  {
   "cell_type": "code",
   "execution_count": null,
   "metadata": {
    "tags": []
   },
   "outputs": [],
   "source": [
    "data_management.imageDownload(collection=collection, \n",
    "                              landsat_id=landsat_id, \n",
    "                              roi=roi, \n",
    "                              scale=90, # Downgrading is recommended to reduce the file size\n",
    "                              output='./example_data/landsat_export.tif')"
   ]
  },
  {
   "cell_type": "markdown",
   "metadata": {},
   "source": [
    "### Calculate metrics\n",
    "Execute one of the cell below to select DGOs"
   ]
  },
  {
   "cell_type": "code",
   "execution_count": null,
   "metadata": {
    "tags": []
   },
   "outputs": [],
   "source": [
    "# Select some DGOs\n",
    "dgo_list = [57,35,42]\n",
    "selected_dgo = dgo_shp.filter(ee.Filter.inList('DGO_FID', dgo_list))"
   ]
  },
  {
   "cell_type": "code",
   "execution_count": null,
   "metadata": {
    "tags": []
   },
   "outputs": [],
   "source": [
    "# Or select a range of DGOs\n",
    "dgo_list = list(range(15,50))\n",
    "selected_dgo = dgo_shp.filter(ee.Filter.inList('DGO_FID', dgo_list))"
   ]
  },
  {
   "cell_type": "code",
   "execution_count": null,
   "metadata": {
    "tags": []
   },
   "outputs": [],
   "source": [
    "# Or select all the DGOs\n",
    "selected_dgo = dgo_shp"
   ]
  },
  {
   "cell_type": "markdown",
   "metadata": {},
   "source": [
    "Then calculate the metrics for those DGOs"
   ]
  },
  {
   "cell_type": "code",
   "execution_count": null,
   "metadata": {
    "tags": []
   },
   "outputs": [],
   "source": [
    "# Metrics calculation\n",
    "metrics = dgo_metrics.calculateDGOsMetrics(collection=collection,\n",
    "                                           dgos=selected_dgo)"
   ]
  },
  {
   "cell_type": "markdown",
   "metadata": {},
   "source": [
    "#### Option 1 - Direct download\n",
    "\n",
    "You can download calculated metrics as pandas dataframe. Technically, the metric calculation is made at this point of the workflow, so the computation time can be long."
   ]
  },
  {
   "cell_type": "code",
   "execution_count": null,
   "metadata": {
    "tags": []
   },
   "outputs": [],
   "source": [
    "from itertools import chain\n",
    "import pandas as pd\n",
    "\n",
    "# Get metrics as pandas dataframe\n",
    "local_data = metrics.getInfo()\n",
    "metrics_df = pd.DataFrame([dgo['properties'] for dgo in local_data['features']])\n",
    "\n",
    "# Save a csv file\n",
    "metrics_df.to_csv('./example_data/properties.csv')"
   ]
  },
  {
   "cell_type": "markdown",
   "metadata": {},
   "source": [
    "#### Option 2 - Export to Google Drive\n",
    "\n",
    "If you have too much DGOs and/or dates, the request will take too much memory and you may need to do a Google Drive export."
   ]
  },
  {
   "cell_type": "code",
   "execution_count": null,
   "metadata": {
    "tags": []
   },
   "outputs": [],
   "source": [
    "# Set the output Google Drive directory name (your GEE Service Account needs to have write access to this directory)\n",
    "output_dir = 'GEE_output_metrics'\n",
    "\n",
    "# Set the output filename\n",
    "output_name = 'yamuna_metrics'"
   ]
  },
  {
   "cell_type": "markdown",
   "metadata": {},
   "source": [
    "Start the computation and export task with the cell below."
   ]
  },
  {
   "cell_type": "code",
   "execution_count": null,
   "metadata": {
    "tags": []
   },
   "outputs": [],
   "source": [
    "import time\n",
    "\n",
    "task = ee.batch.Export.table.toDrive(  \n",
    "    collection=metrics,\n",
    "    folder=output_dir,\n",
    "    description=output_name,\n",
    "    selectors=[\n",
    "        'AC_AREA',\n",
    "        'CLOUD_SCORE',\n",
    "        'COVERAGE_SCORE',\n",
    "        'DATE_ACQUIRED',\n",
    "        'DGO_FID',\n",
    "        'LANDSAT_PRODUCT_ID',\n",
    "        'MEAN_AC_MNDWI',\n",
    "        'MEAN_AC_NDVI',\n",
    "        'MEAN_MNDWI',\n",
    "        'MEAN_NDVI',\n",
    "        'MEAN_VEGETATION_MNDWI',\n",
    "        'MEAN_VEGETATION_NDVI',\n",
    "        'MEAN_WATER_MNDWI',\n",
    "        'VEGETATION_AREA',\n",
    "        'VEGETATION_PERIMETER',\n",
    "        'WATER_AREA',\n",
    "        'WATER_PERIMETER'\n",
    "        ],\n",
    "    fileFormat='CSV')\n",
    "task.start()"
   ]
  },
  {
   "cell_type": "markdown",
   "metadata": {},
   "source": [
    "You can check the task status with the following loop."
   ]
  },
  {
   "cell_type": "code",
   "execution_count": null,
   "metadata": {
    "tags": []
   },
   "outputs": [],
   "source": [
    "while task.active():\n",
    "    print('\\r{}'.format(task.status()), end=\" \")\n",
    "    time.sleep(5)\n",
    "print('\\r{}'.format(task.status()), end=\" \")"
   ]
  },
  {
   "cell_type": "markdown",
   "metadata": {
    "tags": []
   },
   "source": [
    "Download the file from your Google Drive to your local drive and load it in this notebook with the cell below."
   ]
  },
  {
   "cell_type": "markdown",
   "metadata": {},
   "source": [
    "#### Option 3 - EarthEngine Asset"
   ]
  },
  {
   "cell_type": "code",
   "execution_count": null,
   "metadata": {
    "tags": []
   },
   "outputs": [],
   "source": [
    "task = ee.batch.Export.table.toAsset(\n",
    "    collection=metrics,\n",
    "    description='Lhassa metrics',\n",
    "    assetId='projects/earthengine-371715/assets/lhassa_metrics'\n",
    ")\n",
    "task.start()"
   ]
  },
  {
   "cell_type": "code",
   "execution_count": null,
   "metadata": {
    "tags": []
   },
   "outputs": [],
   "source": [
    "while task.active():\n",
    "    print('\\r{}'.format(task.status()), end=\" \")\n",
    "    time.sleep(5)\n",
    "print('\\r{}'.format(task.status()), end=\" \")"
   ]
  },
  {
   "cell_type": "markdown",
   "metadata": {},
   "source": [
    "## Metrics\n",
    "\n",
    "| metric name | description |   \n",
    "|---|---|\n",
    "| AC_AREA | Active Channel area (pixels) |\n",
    "| CLOUD_SCORE | Percent of the DGO covered by clouds (%) |\n",
    "| COVERAGE_SCORE | Percent of the DGO covered by the Landsat image (%) |\n",
    "| MEAN_AC_MNDWI | Mean MNDWI in the active channel surface |\n",
    "| MEAN_AC_NDVI | Mean NDVI in the active channel surface |\n",
    "| MEAN_DRY_MNDWI | Mean MNDWI in the surface which is not water  |\n",
    "| MEAN_MNDWI | Mean MNDWI of the full DGO |\n",
    "| MEAN_NDVI| Mean NDVI of the full DGO |\n",
    "| MEAN_VEGETATION_MNDWI | Mean MNDWI in the vegetation surface |\n",
    "| MEAN_VEGETATION_NDVI | Mean NDVI in the vegetation surface |\n",
    "| MEAN_WATER_MNDWI | Mean MNDWI in the water surface |\n",
    "| VEGETATION_AREA | Vegetation area (pixels) |\n",
    "| VEGETATION_PERIMETER | Vegetation surface perimeter (projection unit) |\n",
    "| WATER_AREA | Water area (pixels) |\n",
    "| WATER_PERIMETER | Water surface perimeter (projection unit) |"
   ]
  }
 ],
 "metadata": {
  "kernelspec": {
   "display_name": "Python 3 (ipykernel)",
   "language": "python",
   "name": "python3"
  },
  "language_info": {
   "codemirror_mode": {
    "name": "ipython",
    "version": 3
   },
   "file_extension": ".py",
   "mimetype": "text/x-python",
   "name": "python",
   "nbconvert_exporter": "python",
   "pygments_lexer": "ipython3",
   "version": "3.10.12"
  },
  "vscode": {
   "interpreter": {
    "hash": "8aeb1f878ba8158bc058a932ecec9da3751cdfd192578fad3204ee3a44e5792c"
   }
  }
 },
 "nbformat": 4,
 "nbformat_minor": 4
}
