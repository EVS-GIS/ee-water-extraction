{
 "cells": [
  {
   "cell_type": "markdown",
   "metadata": {},
   "source": [
    "# Example notebook to use the GloUrbEE extraction tool\n",
    "\n",
    "First, you need to create a Google Cloud Project with the EarthEngine API enabled. \n",
    "Then create a service account with the EarthEngine Viewer role, and download a login json key for this service account. \n",
    "\n",
    "## Login to Google Cloud\n",
    "\n",
    "The next cell load Earth Engine package and login to the API using the service account."
   ]
  },
  {
   "cell_type": "code",
   "execution_count": null,
   "metadata": {
    "tags": []
   },
   "outputs": [],
   "source": [
    "import ee\n",
    "\n",
    "credentials = ee.ServiceAccountCredentials('samuel@ee-glourb.iam.gserviceaccount.com', './earthengine-key.json')\n",
    "ee.Initialize(credentials)\n",
    "\n",
    "# Set your Google Cloud EarthEngine-enabled project name (for asset exports)\n",
    "ee_project_name='ee-glourb'"
   ]
  },
  {
   "cell_type": "markdown",
   "metadata": {},
   "source": [
    "## Import the required packages"
   ]
  },
  {
   "cell_type": "code",
   "execution_count": null,
   "metadata": {
    "tags": []
   },
   "outputs": [],
   "source": [
    "import geemap\n",
    "\n",
    "from glourbee import (\n",
    "    data_management,\n",
    "    classification,\n",
    "    visualization,\n",
    "    dgo_metrics,\n",
    "    assets_management,\n",
    "    workflow,\n",
    "    dgo_indicators\n",
    ")\n",
    "\n",
    "# The next lines are useful if you make modifications in the module files and want to reload it without restarting the notebook kernel\n",
    "import importlib\n",
    "importlib.reload(data_management)\n",
    "importlib.reload(classification)\n",
    "importlib.reload(visualization)\n",
    "importlib.reload(dgo_metrics)\n",
    "importlib.reload(assets_management)\n",
    "importlib.reload(workflow)\n",
    "importlib.reload(dgo_indicators)"
   ]
  },
  {
   "cell_type": "markdown",
   "metadata": {},
   "source": [
    "## 1. Classical usage workflow\n"
   ]
  },
  {
   "cell_type": "markdown",
   "metadata": {},
   "source": [
    "### Upload the DGOs to GEE"
   ]
  },
  {
   "cell_type": "code",
   "execution_count": null,
   "metadata": {
    "tags": []
   },
   "outputs": [],
   "source": [
    "# If it is the first time you process those DGOs in this Google Cloud project, you have to upload them\n",
    "dgo_assetId, dgo_features = assets_management.uploadDGOs('./example_data/Yamuna_segm_2km_UTF8.shp', ee_project_name=ee_project_name, simplify_tolerance=15)"
   ]
  },
  {
   "cell_type": "code",
   "execution_count": null,
   "metadata": {
    "tags": []
   },
   "outputs": [],
   "source": [
    "# Next times, you can only load the uploaded asset\n",
    "#dgo_features = ee.FeatureCollection(dgo_assetId)\n",
    "dgo_features = ee.FeatureCollection('projects/ee-glourb/assets/dgos/Yamuna_simplified_final_108009982a724786aeaf11cc1b6fe6df')"
   ]
  },
  {
   "cell_type": "code",
   "execution_count": null,
   "metadata": {
    "tags": []
   },
   "outputs": [],
   "source": [
    "# You can also list available assets with this command\n",
    "ee.data.listAssets({'parent': 'projects/ee-glourb/assets/dgos'})"
   ]
  },
  {
   "cell_type": "markdown",
   "metadata": {
    "tags": []
   },
   "source": [
    "### Set parameters"
   ]
  },
  {
   "cell_type": "code",
   "execution_count": null,
   "metadata": {
    "tags": []
   },
   "outputs": [],
   "source": [
    "glourbmetrics_params = {\n",
    "    'ee_project_name': ee_project_name,\n",
    "    'dgo_asset': 'projects/ee-glourb/assets/dgos/Yamuna_segm_2km_UTF8_final_b718cac924cf4fc3871f9465b180f716',\n",
    "    'start': '1980-01-01',\n",
    "    'end': '2030-12-31',\n",
    "    'cloud_filter': 80,\n",
    "    'cloud_masking': True,\n",
    "    'mosaic_same_day': True,\n",
    "    'split_size': 25,\n",
    "}"
   ]
  },
  {
   "cell_type": "markdown",
   "metadata": {},
   "source": [
    "### Start workflow\n",
    "\n",
    "Please note carefully the run_id returned by the glourbMetrics function. It will allow you to export the final result."
   ]
  },
  {
   "cell_type": "code",
   "execution_count": null,
   "metadata": {
    "tags": []
   },
   "outputs": [],
   "source": [
    "run_id = workflow.startWorkflow(**glourbmetrics_params)"
   ]
  },
  {
   "cell_type": "markdown",
   "metadata": {
    "tags": []
   },
   "source": [
    "### Monitor workflow tasks"
   ]
  },
  {
   "cell_type": "markdown",
   "metadata": {},
   "source": [
    "If you restarted the notebook kernel and want to check the state of your previous computation tasks, you can use the following cell to retrieve your running tasks (replace \"run_id\" by the corresponding id in str format)."
   ]
  },
  {
   "cell_type": "code",
   "execution_count": null,
   "metadata": {
    "tags": []
   },
   "outputs": [],
   "source": [
    "run_id = 'fdbb11e270dc4a5db410c94f7c9e8533'\n",
    "tasks = workflow.workflowState(run_id)"
   ]
  },
  {
   "cell_type": "code",
   "execution_count": null,
   "metadata": {
    "tags": []
   },
   "outputs": [],
   "source": [
    "# Check all the details if needed\n",
    "tasks"
   ]
  },
  {
   "cell_type": "code",
   "execution_count": null,
   "metadata": {
    "tags": []
   },
   "outputs": [],
   "source": [
    "# Cancel the workflow\n",
    "workflow.cancelWorkflow(run_id)"
   ]
  },
  {
   "cell_type": "markdown",
   "metadata": {},
   "source": [
    "### Export results\n",
    "When all the computation tasks are complete, use the follwing to merge the result into one file and download it locally."
   ]
  },
  {
   "cell_type": "code",
   "execution_count": null,
   "metadata": {},
   "outputs": [],
   "source": [
    "workflow.getResults(run_id=run_id, ee_project_name=ee_project_name, output_csv='./example_data/yamuna_2km.csv')"
   ]
  },
  {
   "cell_type": "code",
   "execution_count": null,
   "metadata": {},
   "outputs": [],
   "source": [
    "# Check your results, then please clean the computation results on GEE\n",
    "workflow.cleanAssets(run_id, ee_project_name)"
   ]
  },
  {
   "cell_type": "markdown",
   "metadata": {},
   "source": [
    "### Calculate some indicators\n",
    "Independent of the raw metrics extraction workflow, it is possible to extract indicators based on the JRC Global Surface Water Mapping Layers :"
   ]
  },
  {
   "cell_type": "code",
   "execution_count": null,
   "metadata": {
    "tags": []
   },
   "outputs": [],
   "source": [
    "#dgo_features = ee.FeatureCollection('projects/ee-glourb/assets/dgos/study_area_SA_cut2_final_111f57de97eb4876909538e1fefbf1a6')\n",
    "workflow.indicatorsWorkflow(dgos_asset = dgo_features, output_csv = './example_data/indicateurs_fanny.csv')"
   ]
  },
  {
   "cell_type": "markdown",
   "metadata": {},
   "source": [
    "## 2. Step-by-step workflow\n",
    "\n",
    "Only functional for small area of interest and small amount of DGOs. But very useful to find the right parameters for your data.\n",
    "### Select data to analyse"
   ]
  },
  {
   "cell_type": "code",
   "execution_count": null,
   "metadata": {
    "tags": []
   },
   "outputs": [],
   "source": [
    "# Load DGOs\n",
    "dgo_features = ee.FeatureCollection('projects/ee-glourb/assets/dgos/Yamuna_river_500m_segm_final_8a47038c4eff4013b2230b8ee0b5acfa')"
   ]
  },
  {
   "cell_type": "code",
   "execution_count": null,
   "metadata": {
    "tags": []
   },
   "outputs": [],
   "source": [
    "# Select some DGOs\n",
    "dgo_list = [57,35,42]\n",
    "selected_dgo = dgo_features.filter(ee.Filter.inList('DGO_FID', dgo_list))"
   ]
  },
  {
   "cell_type": "code",
   "execution_count": null,
   "metadata": {
    "tags": []
   },
   "outputs": [],
   "source": [
    "# Or select a range of DGOs\n",
    "dgo_list = list(range(15,20))\n",
    "selected_dgo = dgo_features.filter(ee.Filter.inList('DGO_FID', dgo_list))"
   ]
  },
  {
   "cell_type": "markdown",
   "metadata": {},
   "source": [
    "### Classify images"
   ]
  },
  {
   "cell_type": "code",
   "execution_count": null,
   "metadata": {
    "tags": []
   },
   "outputs": [],
   "source": [
    "# Create a region of interset (union of all the DGOs)\n",
    "roi = selected_dgo.union(1)\n",
    "\n",
    "# Get the landsat image collection for your ROI\n",
    "collection = data_management.getLandsatCollection(start=ee.Date('1990-01-01'), \n",
    "                                                  end=ee.Date('1990-12-31'), \n",
    "                                                  cloud_filter=80, # Maximum cloud coverage accepted (%)\n",
    "                                                  cloud_masking=True, # Set to False if you don't want to mask the clouds on accepted images\n",
    "                                                  mosaic_same_day=True, # Set to False if you don't want to merge all images by day\n",
    "                                                  roi=roi) \n",
    "\n",
    "# Calculate MNDWI, NDVI and NDWI\n",
    "collection = classification.calculateIndicators(collection)\n",
    "\n",
    "# Classify the objects using the indicators\n",
    "collection = classification.classifyObjects(collection)"
   ]
  },
  {
   "cell_type": "markdown",
   "metadata": {},
   "source": [
    "### Layers visualisation (optional)\n",
    "\n",
    "At this point of the workflow, you can create an interactive map for an individual landsat image to check all the previously calculated layers.\n",
    "This feature is only available in a jupyter notebook.\n",
    "\n",
    "If you have more than 100 DGOs, this will not be functional (work in progress)."
   ]
  },
  {
   "cell_type": "code",
   "execution_count": null,
   "metadata": {
    "tags": []
   },
   "outputs": [],
   "source": [
    "from ipywidgets import interact, fixed\n",
    "\n",
    "# Get the landsat_product_id of the collection\n",
    "time_starts = collection.aggregate_array('system:time_start').getInfo()\n",
    "\n",
    "map = interact(visualization.imageVisualization, \n",
    "         collection=fixed(collection), \n",
    "         dgo_shp=fixed(selected_dgo), \n",
    "         time_starts=time_starts)\n",
    "\n",
    "# Show the map in the notebook output\n",
    "map"
   ]
  },
  {
   "cell_type": "markdown",
   "metadata": {
    "tags": []
   },
   "source": [
    "### Download layers (optional)\n",
    "\n",
    "If your ROI is not too big, it's possible to download the layers to your local disk. See below the content of each output band.\n",
    "\n",
    "| band number | content |   \n",
    "|---|---|\n",
    "| 1 | blue |\n",
    "| 2 | green |\n",
    "| 3 | red |\n",
    "| 4 | nir |\n",
    "| 5 | swir1 |\n",
    "| 6 | swir2 |\n",
    "| 7 | qa_pixel |\n",
    "| 8 | mndwi |\n",
    "| 9 | ndvi |\n",
    "| 10 | ndwi |\n",
    "| 11 | water |\n",
    "| 12 | vegetation |\n",
    "| 13 | active channel |\n"
   ]
  },
  {
   "cell_type": "code",
   "execution_count": null,
   "metadata": {
    "tags": []
   },
   "outputs": [],
   "source": [
    "# TODO: Update needed\n",
    "data_management.imageDownload(collection=collection, \n",
    "                              landsat_id=landsat_id, \n",
    "                              roi=roi, \n",
    "                              scale=90, # Downgrading is recommended to reduce the file size\n",
    "                              output='./example_data/landsat_export.tif')"
   ]
  },
  {
   "cell_type": "markdown",
   "metadata": {},
   "source": [
    "### Calculate metrics"
   ]
  },
  {
   "cell_type": "code",
   "execution_count": null,
   "metadata": {
    "tags": []
   },
   "outputs": [],
   "source": [
    "# Metrics calculation\n",
    "metrics = dgo_metrics.calculateDGOsMetrics(collection=collection,\n",
    "                                           dgos=selected_dgo)"
   ]
  },
  {
   "cell_type": "markdown",
   "metadata": {},
   "source": [
    "### Export data\n",
    "#### Asset-managed method"
   ]
  },
  {
   "cell_type": "code",
   "execution_count": null,
   "metadata": {
    "tags": []
   },
   "outputs": [],
   "source": [
    "assets_management.downloadMetrics(metrics, './example_data/properties.csv', ee_project_name=ee_project_name)"
   ]
  },
  {
   "cell_type": "markdown",
   "metadata": {},
   "source": [
    "#### Other methods (deprecated)"
   ]
  },
  {
   "cell_type": "markdown",
   "metadata": {},
   "source": [
    "##### Option 1 - Direct download\n",
    "\n",
    "You can download calculated metrics as pandas dataframe. Technically, the metric calculation is made at this point of the workflow, so the computation time can be long."
   ]
  },
  {
   "cell_type": "code",
   "execution_count": null,
   "metadata": {
    "tags": []
   },
   "outputs": [],
   "source": [
    "from itertools import chain\n",
    "import pandas as pd\n",
    "\n",
    "# Get metrics as pandas dataframe\n",
    "local_data = metrics.getInfo()\n",
    "metrics_df = pd.DataFrame([dgo['properties'] for dgo in local_data['features']])\n",
    "\n",
    "# Save a csv file\n",
    "metrics_df.to_csv('./example_data/properties.csv')"
   ]
  },
  {
   "cell_type": "markdown",
   "metadata": {},
   "source": [
    "##### Option 2 - Export to Google Drive\n",
    "\n",
    "If you have too much DGOs and/or dates, the request will take too much memory and you may need to do a Google Drive export."
   ]
  },
  {
   "cell_type": "code",
   "execution_count": null,
   "metadata": {
    "tags": []
   },
   "outputs": [],
   "source": [
    "# Set the output Google Drive directory name (your GEE Service Account needs to have write access to this directory)\n",
    "output_dir = 'GEE_Exports_sdunesme'\n",
    "\n",
    "# Set the output filename\n",
    "output_name = 'lhassa_metrics_v2'"
   ]
  },
  {
   "cell_type": "markdown",
   "metadata": {},
   "source": [
    "Start the computation and export task with the cell below."
   ]
  },
  {
   "cell_type": "code",
   "execution_count": null,
   "metadata": {
    "tags": []
   },
   "outputs": [],
   "source": [
    "import time\n",
    "\n",
    "task = ee.batch.Export.table.toDrive(  \n",
    "    collection=metrics,\n",
    "    folder=output_dir,\n",
    "    description=output_name,\n",
    "    fileFormat='CSV')\n",
    "task.start()"
   ]
  },
  {
   "cell_type": "markdown",
   "metadata": {},
   "source": [
    "You can check the task status with the following loop."
   ]
  },
  {
   "cell_type": "code",
   "execution_count": null,
   "metadata": {
    "tags": []
   },
   "outputs": [],
   "source": [
    "while task.active():\n",
    "    print('\\r{}'.format(task.status()), end=\" \")\n",
    "    time.sleep(5)\n",
    "print('\\r{}'.format(task.status()), end=\" \")"
   ]
  },
  {
   "cell_type": "markdown",
   "metadata": {
    "tags": []
   },
   "source": [
    "Download the file from your Google Drive to your local drive and load it in this notebook with the cell below."
   ]
  },
  {
   "cell_type": "markdown",
   "metadata": {},
   "source": [
    "##### Option 3 - EarthEngine Asset"
   ]
  },
  {
   "cell_type": "code",
   "execution_count": null,
   "metadata": {
    "tags": []
   },
   "outputs": [],
   "source": [
    "task = ee.batch.Export.table.toAsset(\n",
    "    collection=metrics,\n",
    "    description='Lhassa metrics',\n",
    "    assetId='projects/earthengine-371715/assets/lhassa_metrics'\n",
    ")\n",
    "task.start()"
   ]
  },
  {
   "cell_type": "code",
   "execution_count": null,
   "metadata": {
    "tags": []
   },
   "outputs": [],
   "source": [
    "import time\n",
    "while task.active():\n",
    "    print('\\r{}'.format(task.status()), end=\" \")\n",
    "    time.sleep(5)\n",
    "print('\\r{}'.format(task.status()), end=\" \")"
   ]
  }
 ],
 "metadata": {
  "kernelspec": {
   "display_name": "Python 3 (ipykernel)",
   "language": "python",
   "name": "python3"
  },
  "language_info": {
   "codemirror_mode": {
    "name": "ipython",
    "version": 3
   },
   "file_extension": ".py",
   "mimetype": "text/x-python",
   "name": "python",
   "nbconvert_exporter": "python",
   "pygments_lexer": "ipython3",
   "version": "3.10.12"
  },
  "vscode": {
   "interpreter": {
    "hash": "8aeb1f878ba8158bc058a932ecec9da3751cdfd192578fad3204ee3a44e5792c"
   }
  }
 },
 "nbformat": 4,
 "nbformat_minor": 4
}
