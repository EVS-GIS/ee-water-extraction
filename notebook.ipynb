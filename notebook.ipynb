{
 "cells": [
  {
   "cell_type": "markdown",
   "metadata": {},
   "source": [
    "# Example notebook to use the ee-water-extraction tool\n",
    "\n",
    "First, you need to create a Google Cloud Project with the EarthEngine API enabled. \n",
    "Then create a service account with the EarthEngine Viewer role, and download a login json key for this service account. \n",
    "\n",
    "## Login to Google Cloud\n",
    "\n",
    "The next cell load Earth Engine package and login to the API using the service account."
   ]
  },
  {
   "cell_type": "code",
   "execution_count": null,
   "metadata": {
    "tags": []
   },
   "outputs": [],
   "source": [
    "import ee\n",
    "\n",
    "credentials = ee.ServiceAccountCredentials('ee-water-extraction@earthengine-371715.iam.gserviceaccount.com', \n",
    "                                           './earthengine-key.json')\n",
    "ee.Initialize(credentials)"
   ]
  },
  {
   "cell_type": "markdown",
   "metadata": {},
   "source": [
    "## Classical usage workflow\n",
    "### Import the required packages"
   ]
  },
  {
   "cell_type": "code",
   "execution_count": null,
   "metadata": {
    "tags": []
   },
   "outputs": [],
   "source": [
    "import geemap\n",
    "\n",
    "from eewaterextraction import data_management\n",
    "from eewaterextraction import classification\n",
    "from eewaterextraction import visualization\n",
    "from eewaterextraction import dgo_metrics\n",
    "\n",
    "# The next lines are useful if you make modifications in the module files and want to reload it without restarting the notebook kernel\n",
    "import importlib\n",
    "importlib.reload(data_management)\n",
    "importlib.reload(classification)\n",
    "importlib.reload(visualization)\n",
    "importlib.reload(dgo_metrics)"
   ]
  },
  {
   "cell_type": "markdown",
   "metadata": {},
   "source": [
    "### Upload the DGOs to GEE"
   ]
  },
  {
   "cell_type": "code",
   "execution_count": null,
   "metadata": {
    "tags": []
   },
   "outputs": [],
   "source": [
    "# Set the local DGO file path\n",
    "dgo_shapefile_path = './example_data/Lhasa_RC_DGO2km_updated.shp'\n",
    "\n",
    "# Upload it to GEE\n",
    "dgo_shp = geemap.shp_to_ee(dgo_shapefile_path)\n",
    "\n",
    "# Create a region of interset (union of all the DGOs)\n",
    "roi = dgo_shp.union(1)"
   ]
  },
  {
   "cell_type": "markdown",
   "metadata": {},
   "source": [
    "### Classify images"
   ]
  },
  {
   "cell_type": "code",
   "execution_count": null,
   "metadata": {
    "tags": []
   },
   "outputs": [],
   "source": [
    "# Get the landsat image collection for your ROI\n",
    "collection = data_management.getLandsatCollection(start=ee.Date('1980-01-01'), \n",
    "                                                  end=ee.Date('2100-01-01'), \n",
    "                                                  cloud_filter=80, # Maximum cloud coverage accepted (%)\n",
    "                                                  cloud_masking=True, # Set to False if you don't want to mask the clouds on accepted images\n",
    "                                                  roi=roi)\n",
    "\n",
    "# Calculate MNDWI, NDVI and NDWI\n",
    "collection = classification.calculateIndicators(collection)\n",
    "\n",
    "# Classify the objects using the indicators\n",
    "collection = classification.classifyObjects(collection)"
   ]
  },
  {
   "cell_type": "markdown",
   "metadata": {},
   "source": [
    "### Layers visualisation\n",
    "\n",
    "At this point of the workflow, you can create an interactive map for an individual landsat image to check all the previously calculated layers.\n",
    "This feature is only available in a jupyter notebook."
   ]
  },
  {
   "cell_type": "code",
   "execution_count": null,
   "metadata": {
    "tags": []
   },
   "outputs": [],
   "source": [
    "from ipywidgets import interact, fixed\n",
    "\n",
    "# Get the landsat_product_id of the collection\n",
    "landsat_ids = collection.aggregate_array('LANDSAT_PRODUCT_ID').getInfo()\n",
    "\n",
    "map = interact(visualization.imageVisualization, \n",
    "         collection=fixed(collection), \n",
    "         dgo_shp=fixed(dgo_shp), \n",
    "         landsat_id=landsat_ids)\n",
    "\n",
    "# Show the map in the notebook output\n",
    "map"
   ]
  },
  {
   "cell_type": "markdown",
   "metadata": {
    "tags": []
   },
   "source": [
    "### Download layers\n",
    "\n",
    "If your ROI is not too big, it's possible to download the layers to your local disk. See below the content of each output band.\n",
    "\n",
    "| band number | content |   \n",
    "|---|---|\n",
    "| 1 | blue |\n",
    "| 2 | green |\n",
    "| 3 | red |\n",
    "| 4 | nir |\n",
    "| 5 | swir1 |\n",
    "| 6 | swir2 |\n",
    "| 7 | qa_pixel |\n",
    "| 8 | mndwi |\n",
    "| 9 | ndvi |\n",
    "| 10 | ndwi |\n",
    "| 11 | water |\n",
    "| 12 | vegetation |\n",
    "| 13 | active channel |\n"
   ]
  },
  {
   "cell_type": "code",
   "execution_count": null,
   "metadata": {
    "tags": []
   },
   "outputs": [],
   "source": [
    "data_management.imageDownload(collection=collection, \n",
    "                              landsat_id=landsat_id, \n",
    "                              roi=roi, \n",
    "                              scale=90, # Downgrading is recommended to reduce the file size\n",
    "                              output='./example_data/landsat_export.tif')"
   ]
  },
  {
   "cell_type": "markdown",
   "metadata": {},
   "source": [
    "### Calculate metrics\n",
    "Execute one of the cell below to select DGOs"
   ]
  },
  {
   "cell_type": "code",
   "execution_count": null,
   "metadata": {
    "tags": []
   },
   "outputs": [],
   "source": [
    "# Select some DGOs\n",
    "dgo_list = [57,35,42]\n",
    "selected_dgo = dgo_shp.filter(ee.Filter.inList('DGO_FID', dgo_list))"
   ]
  },
  {
   "cell_type": "code",
   "execution_count": null,
   "metadata": {
    "tags": []
   },
   "outputs": [],
   "source": [
    "# Or select all the DGOs\n",
    "selected_dgo = dgo_shp"
   ]
  },
  {
   "cell_type": "markdown",
   "metadata": {},
   "source": [
    "Then calculate the metrics for those DGOs"
   ]
  },
  {
   "cell_type": "code",
   "execution_count": null,
   "metadata": {
    "tags": []
   },
   "outputs": [],
   "source": [
    "# Filter dates before metrics calculation\n",
    "start = '2020-01-01'\n",
    "end = '2020-03-31'\n",
    "\n",
    "subcollection = collection.filterDate(ee.Date(start), ee.Date(end))\n",
    "\n",
    "# Metrics calculation\n",
    "metrics = dgo_metrics.calculateDGOsMetrics(collection=subcollection,\n",
    "                                           dgos=selected_dgo)"
   ]
  },
  {
   "cell_type": "markdown",
   "metadata": {},
   "source": [
    "#### Option 1\n",
    "\n",
    "You can download calculated metrics as pandas dataframe. Technically, the metric calculation is made at this point of the workflow, so the computation time can be long."
   ]
  },
  {
   "cell_type": "code",
   "execution_count": null,
   "metadata": {
    "tags": []
   },
   "outputs": [],
   "source": [
    "from itertools import chain\n",
    "import pandas as pd\n",
    "\n",
    "# Get metrics as pandas dataframe\n",
    "local_data = metrics.getInfo()\n",
    "metrics_df = pd.DataFrame(list(chain(*local_data)))\n",
    "\n",
    "# Save a csv file\n",
    "metrics_df.to_csv('./example_data/properties.csv')"
   ]
  },
  {
   "cell_type": "markdown",
   "metadata": {},
   "source": [
    "#### Option 2\n",
    "\n",
    "If you have too much DGOs and/or dates, you may need to do a month-to-month loop to reduce Google Cloud's request size. In this case, you can use the code below instead of the previous cell."
   ]
  },
  {
   "cell_type": "code",
   "execution_count": null,
   "metadata": {
    "tags": []
   },
   "outputs": [],
   "source": [
    "import os\n",
    "from itertools import chain\n",
    "import pandas as pd\n",
    "\n",
    "output_path = './example_data/'\n",
    "output_prefix = 'properties_'\n",
    "\n",
    "start[:3]\n",
    "for year in range(int(start[:4]), int(end[:4])):\n",
    "    for month in range(1, 13):\n",
    "        collec_start = ee.Date(f'{year}-{month:0>2}-01')\n",
    "        \n",
    "        if month in [1,3,5,7,8,10,12]:\n",
    "            collec_end = ee.Date(f'{year}-{month:0>2}-31')\n",
    "        elif month in [4,6,9,11]:\n",
    "            collec_end = ee.Date(f'{year}-{month:0>2}-30')\n",
    "        elif month == 2:\n",
    "            collec_end = ee.Date(f'{year}-03-01')\n",
    "            \n",
    "        # Filter dates before metrics calculation\n",
    "        subcollection = collection.filterDate(collec_start, collec_end)\n",
    "\n",
    "        metrics = dgo_metrics.calculateDGOsMetrics(collection=subcollection,\n",
    "                                                   dgos=selected_dgo)\n",
    "        \n",
    "        # Get metrics as pandas dataframe\n",
    "        local_data = metrics.getInfo()\n",
    "        metrics_df = pd.DataFrame(list(chain(*local_data)))\n",
    "\n",
    "        # Save a csv file\n",
    "        output = os.path.join(output_path, f'{output_prefix}{year}-{month:0>2}.csv')\n",
    "        metrics_df.to_csv(output)"
   ]
  },
  {
   "cell_type": "markdown",
   "metadata": {},
   "source": [
    "## Metrics\n",
    "\n",
    "| metric name | description |   \n",
    "|---|---|\n",
    "| AC_AREA | Active Channel area |\n",
    "| CLOUD_SCORE | Percent of the DGO covered by clouds |\n",
    "| COVERAGE_SCORE | Percent of the DGO covered by the Landsat image |\n",
    "| MEAN_AC_MNDWI | Mean MNDWI in the active channel surface |\n",
    "| MEAN_AC_NDVI | Mean NDVI in the active channel surface |\n",
    "| MEAN_DRY_MNDWI | Mean MNDWI in the surface which is not water  |\n",
    "| MEAN_MNDWI | Mean MNDWI of the full DGO |\n",
    "| MEAN_NDVI| Mean NDVI of the full DGO |\n",
    "| MEAN_VEGETATION_MNDWI | Mean MNDWI in the vegetation surface |\n",
    "| MEAN_VEGETATION_NDVI | Mean NDVI in the vegetation surface |\n",
    "| MEAN_WATER_MNDWI | Mean MNDWI in the water surface |\n",
    "| VEGETATION_AREA | Vegetation area |\n",
    "| VEGETATION_PERIMETER | Vegetation surface perimeter |\n",
    "| WATER_AREA | Water area |\n",
    "| WATER_PERIMETER | Water surface perimeter |"
   ]
  }
 ],
 "metadata": {
  "kernelspec": {
   "display_name": "Python 3 (ipykernel)",
   "language": "python",
   "name": "python3"
  },
  "language_info": {
   "codemirror_mode": {
    "name": "ipython",
    "version": 3
   },
   "file_extension": ".py",
   "mimetype": "text/x-python",
   "name": "python",
   "nbconvert_exporter": "python",
   "pygments_lexer": "ipython3",
   "version": "3.10.6"
  },
  "vscode": {
   "interpreter": {
    "hash": "8aeb1f878ba8158bc058a932ecec9da3751cdfd192578fad3204ee3a44e5792c"
   }
  }
 },
 "nbformat": 4,
 "nbformat_minor": 4
}
