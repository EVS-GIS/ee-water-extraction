{
 "cells": [
  {
   "cell_type": "code",
   "execution_count": 1,
   "metadata": {},
   "outputs": [],
   "source": [
    "#import seaborn"
   ]
  },
  {
   "cell_type": "code",
   "execution_count": null,
   "metadata": {
    "is_executing": true
   },
   "outputs": [],
   "source": [
    "print(\"Test!\")"
   ]
  },
  {
   "cell_type": "code",
   "execution_count": 1,
   "metadata": {},
   "outputs": [],
   "source": [
    "# TODO: Aduth file somehow?\n",
    "import ee\n",
    "import numpy as np\n",
    "import geopandas\n",
    "import matplotlib.pyplot as plt\n",
    "\n",
    "# from bqplot import pyplot as plt\n",
    "# from ipyleaflet import *\n",
    "\n",
    "# ee.Authenticate();\n",
    "# ee.Initialize();\n",
    "\n",
    "import geemap\n",
    "import pandas as pd\n"
   ]
  },
  {
   "cell_type": "code",
   "execution_count": 2,
   "metadata": {
    "scrolled": true
   },
   "outputs": [
    {
     "data": {
      "application/vnd.jupyter.widget-view+json": {
       "model_id": "fa7f66a19441431e840d32e694b1a893",
       "version_major": 2,
       "version_minor": 0
      },
      "text/plain": [
       "Map(center=[29.6487, 91.1319], controls=(ZoomControl(options=['position', 'zoom_in_text', 'zoom_in_title', 'zo…"
      ]
     },
     "execution_count": 2,
     "metadata": {},
     "output_type": "execute_result"
    }
   ],
   "source": [
    "Map = geemap.Map()\n",
    "latitude = 29.6487\n",
    "longitude = 91.1319\n",
    "\n",
    "center = ee.Geometry.Point(longitude, latitude)\n",
    "Map.centerObject(center, 10)\n",
    "Map.set_options(mapTypeId='SATELLITE');\n",
    "Map"
   ]
  },
  {
   "cell_type": "code",
   "execution_count": 3,
   "metadata": {},
   "outputs": [
    {
     "data": {
      "application/vnd.jupyter.widget-view+json": {
       "model_id": "07b88e4685e840dc81130edf2caff657",
       "version_major": 2,
       "version_minor": 0
      },
      "text/plain": [
       "Map(center=[40, -100], controls=(ZoomControl(options=['position', 'zoom_in_text', 'zoom_in_title', 'zoom_out_t…"
      ]
     },
     "execution_count": 3,
     "metadata": {},
     "output_type": "execute_result"
    }
   ],
   "source": [
    "Map = geemap.Map(center=(40, -100), zoom=4)\n",
    "Map.set_options(mapTypeId='SATELLITE');\n",
    "Map"
   ]
  },
  {
   "cell_type": "code",
   "execution_count": 4,
   "metadata": {},
   "outputs": [],
   "source": [
    "shp_path = './Lhasa/Lhasa_RC_DGO2km_updated.shp';\n",
    "lhasa_shp = geemap.shp_to_ee(shp_path);"
   ]
  },
  {
   "cell_type": "code",
   "execution_count": 5,
   "metadata": {},
   "outputs": [
    {
     "data": {
      "application/vnd.jupyter.widget-view+json": {
       "model_id": "07b88e4685e840dc81130edf2caff657",
       "version_major": 2,
       "version_minor": 0
      },
      "text/plain": [
       "Map(bottom=1851.0, center=[40, -100], controls=(ZoomControl(options=['position', 'zoom_in_text', 'zoom_in_titl…"
      ]
     },
     "execution_count": 5,
     "metadata": {},
     "output_type": "execute_result"
    }
   ],
   "source": [
    "Map"
   ]
  },
  {
   "cell_type": "code",
   "execution_count": 6,
   "metadata": {},
   "outputs": [],
   "source": [
    "#fait apparaitre la rivière avec les DGOs\n",
    "def getCover(image, AOI, scale):\n",
    "    totPixels = ee.Number(image.unmask(1).reduceRegion(\n",
    "        reducer=ee.Reducer.count(),\n",
    "        scale=LANDSAT_SCALE,\n",
    "        geometry=AOI,\n",
    "        maxPixels=1e13\n",
    "    ).values().get(0));\n",
    "    actPixels = ee.Number(image.reduceRegion(\n",
    "        reducer=ee.Reducer.count(),\n",
    "        scale=LANDSAT_SCALE,\n",
    "        geometry=AOI,\n",
    "        maxPixels=1e13\n",
    "    ).values().get(0));\n",
    "    percCover = actPixels.divide(totPixels).multiply(100).round();\n",
    "    return image.set('percCover', percCover);\n",
    "\n",
    "def maskL8sr(image):\n",
    "    # AT the DGO SCALE we calculate n.o. pixels within DGO\n",
    "    cloudShadowBitMask = (1 << 3);\n",
    "    cloudsBitMask = (1 << 5);\n",
    "    qa = image.select('QA_PIXEL');\n",
    "    mask = (qa.bitwiseAnd(cloudShadowBitMask).eq(0)\n",
    "    .And(qa.bitwiseAnd(cloudsBitMask).eq(0)));\n",
    "    return image.updateMask(mask);\n",
    "\n",
    "def addMNDWI(image):\n",
    "    return image.addBands(srcImg=image.normalizedDifference(['B2','B5']).rename('MNDWI')); # B2=greenl B4=SWIR\n",
    "\n",
    "def addIS_WATER_MNDWI(image):\n",
    "    return image.addBands(image.expression('MNDWI >  0.0', {\n",
    "            'MNDWI': image.select('MNDWI'),\n",
    "            }).rename('IS_WATER_MNDWI'));\n",
    "def IS_WATER_INDIC(INDIC, ImColl):\n",
    "    return ImColl.select('IS_WATER_' + INDIC).map(lambda image: image.updateMask(image.neq(0)));\n",
    "\n",
    "def process_polygon(shp, dgo=1, START_DATE='1988-04-06', END_DATE='1988-04-08'):\n",
    "    filt = ee.Filter.inList('DGO_FID', [dgo]);\n",
    "    AOI = shp.filter(filt);\n",
    "    filtered_DGO = AOI;\n",
    "    AOI_ID=f'middle_ID{dgo}';\n",
    "\n",
    "    START = ee.Date(START_DATE);\n",
    "    END = ee.Date(END_DATE);\n",
    "    DAY_DIFF = ee.Date(END_DATE).difference(START, 'day');\n",
    "    DAY_RANGE = ee.List.sequence(0,DAY_DIFF.subtract(1),1).map(lambda day: START.advance(day,'day'));\n",
    "\n",
    "    #  /* Working resolution, minimum 30 meters, read\n",
    "    #                          https://developers.google.com/earth-engine/guides/scale\n",
    "    #                          to learn how scales/images pyramids work in GEE */\n",
    "\n",
    "    eightCo = True;      # // eightConnected boolean for vectorization\n",
    "    nCo = (eightCo+1)*4; #  // NConnected integer for file exports\n",
    "\n",
    "    #/* int or float, multiplied by LANDSAT_SCALE, becomes the tolerance \n",
    "    #                                  of the simplification of the water polygons */\n",
    "\n",
    "    # Visulization parameters :\n",
    "\n",
    "    NDWI_MIN = -0.3;\n",
    "    NDWI_MAX = 0.3;\n",
    "\n",
    "    NDVI_MIN = -0.5;\n",
    "    NDVI_MAX = 0.5;\n",
    "\n",
    "    CLOUD_PAL = ['gray', 'white'];\n",
    "    NDWI_PAL = ['black','white','blue'];\n",
    "    NDVI_PAL = ['black','white','green'];\n",
    "\n",
    "    LANDSAT_FULL = (ee.ImageCollection('LANDSAT/LC08/C02/T1_L2')\n",
    "        .select(['SR_B2', 'SR_B3', 'SR_B4', 'SR_B5','SR_B6','SR_B7','QA_PIXEL'])\n",
    "        .map(lambda image: image.rename(['B1', 'B2', 'B3', 'B4','B5','B7','QA_PIXEL'])));\n",
    "    LANDSAT_FULL = (LANDSAT_FULL\n",
    "                        .merge(ee.ImageCollection('LANDSAT/LE07/C02/T1_L2').select(['SR_B1', 'SR_B2', 'SR_B3', 'SR_B4','SR_B5','SR_B7','QA_PIXEL']))\n",
    "                        .map(lambda image: image.rename(['B1', 'B2', 'B3', 'B4','B5','B7','QA_PIXEL']))\n",
    "                        .merge(ee.ImageCollection('LANDSAT/LT05/C02/T1_L2').select(['SR_B1', 'SR_B2', 'SR_B3', 'SR_B4','SR_B5','SR_B7','QA_PIXEL']))\n",
    "                        .map(lambda image: image.rename(['B1', 'B2', 'B3', 'B4','B5','B7','QA_PIXEL']))\n",
    "                        .merge(ee.ImageCollection('LANDSAT/LT04/C02/T1_L2').select(['SR_B1', 'SR_B2', 'SR_B3', 'SR_B4','SR_B5','SR_B7','QA_PIXEL']))\n",
    "                        .map(lambda image: image.rename(['B1', 'B2', 'B3', 'B4','B5','B7','QA_PIXEL']))   \n",
    "                    );\n",
    "\n",
    "    # print(\"CLOUD_COVER FILTER: \", CLOUD_FILTER);\n",
    "    LANDSAT = (LANDSAT_FULL\n",
    "        .filterDate(START_DATE, END_DATE)\n",
    "        .filter(ee.Filter.lte('CLOUD_COVER', CLOUD_FILTER)) # COVERAGE CHECK (CC) AT THE IMAGE LEVEL!\n",
    "        .map(maskL8sr)\n",
    "        .filterBounds(AOI));\n",
    "\n",
    "    # Nelly's argument --- remove first threshold and vary second.\n",
    "    \n",
    "    # GET COVER IS THE IMAGE COVER (How does getCover() work? -- )\n",
    "    LANDSAT = LANDSAT.map(lambda image: getCover(image, AOI, LANDSAT_SCALE)); # CC AT THE DGO LEVEL!\n",
    "    LANDSAT = LANDSAT.filterMetadata('percCover', 'greater_than', CLOUD_FILTER_2); # DEFAULT 98\n",
    "    LANDSAT = LANDSAT.map(addMNDWI);\n",
    "\n",
    "    LANDSAT = LANDSAT.map(addIS_WATER_MNDWI);\n",
    "\n",
    "    IS_WATER_MNDWI = IS_WATER_INDIC('MNDWI', LANDSAT);\n",
    "    return AOI, LANDSAT, IS_WATER_MNDWI;\n",
    "\n",
    "MIN_PIX = 2; # // To filter small water polygons\n",
    "CLOUD_FILTER = 80;\n",
    "CLOUD_FILTER_2 = 25;\n",
    "LANDSAT_SCALE = 30;\n",
    "SIMPLIFY_TOLERANCE_N = 2;\n",
    "AOI, LANDSAT, IS_WATER_MNDWI = process_polygon(shp=lhasa_shp, dgo=1, START_DATE='2020-01-01', END_DATE='2020-01-30');\n",
    "\n",
    "Map.addLayer(LANDSAT.first(), {\"bands\": ['B3', 'B2', 'B1'], \"min\": 9600, \"max\": 16677}, 'RGB');\n",
    "Map.addLayer(lhasa_shp, {}, 'Lhasa River SHP');\n",
    "Map.addLayer(IS_WATER_MNDWI.first(), {'palette': 'Reds'}, 'water MNDWI', True);\n",
    "Map.zoom = 11\n",
    "Map.center_object(lhasa_shp);"
   ]
  },
  {
   "cell_type": "code",
   "execution_count": 7,
   "metadata": {},
   "outputs": [
    {
     "data": {
      "application/vnd.jupyter.widget-view+json": {
       "model_id": "07b88e4685e840dc81130edf2caff657",
       "version_major": 2,
       "version_minor": 0
      },
      "text/plain": [
       "Map(bottom=54523.0, center=[29.651569731000073, 91.3219064102816], controls=(ZoomControl(options=['position', …"
      ]
     },
     "execution_count": 7,
     "metadata": {},
     "output_type": "execute_result"
    }
   ],
   "source": [
    "shp_path = './Lhasa/Lhasa_RC_DGO2km_updated.shp';\n",
    "lhasa_shp = geemap.shp_to_ee(shp_path);\n",
    "Map.zoom = 15;\n",
    "Map.center_object(lhasa_shp);\n",
    "Map"
   ]
  },
  {
   "cell_type": "code",
   "execution_count": null,
   "metadata": {},
   "outputs": [],
   "source": []
  },
  {
   "cell_type": "code",
   "execution_count": null,
   "metadata": {
    "tags": []
   },
   "outputs": [
    {
     "name": "stdout",
     "output_type": "stream",
     "text": [
      "DGO: 1 / 77\n",
      "DGO: 2 / 77\n",
      "DGO: 3 / 77\n",
      "DGO: 4 / 77\n",
      "DGO: 5 / 77\n",
      "DGO: 6 / 77\n",
      "DGO: 7 / 77\n",
      "DGO: 8 / 77\n",
      "DGO: 9 / 77\n",
      "DGO: 10 / 77\n",
      "DGO: 11 / 77\n",
      "DGO: 12 / 77\n",
      "DGO: 13 / 77\n",
      "DGO: 14 / 77\n",
      "DGO: 15 / 77\n",
      "DGO: 16 / 77\n",
      "DGO: 17 / 77\n",
      "DGO: 18 / 77\n",
      "DGO: 19 / 77\n",
      "DGO: 20 / 77\n",
      "DGO: 21 / 77\n",
      "DGO: 22 / 77\n",
      "DGO: 23 / 77\n",
      "DGO: 24 / 77\n",
      "DGO: 25 / 77\n",
      "DGO: 26 / 77\n",
      "DGO: 27 / 77\n",
      "DGO: 28 / 77\n",
      "DGO: 29 / 77\n",
      "DGO: 30 / 77\n",
      "DGO: 31 / 77\n",
      "DGO: 32 / 77\n",
      "DGO: 33 / 77\n",
      "DGO: 34 / 77\n",
      "DGO: 35 / 77\n",
      "DGO: 36 / 77\n",
      "DGO: 37 / 77\n",
      "DGO: 38 / 77\n",
      "DGO: 39 / 77\n",
      "DGO: 40 / 77\n",
      "DGO: 41 / 77\n",
      "DGO: 42 / 77\n"
     ]
    }
   ],
   "source": [
    "def VECTORIZE_FOR_AOI(AOI):\n",
    "    def VECTORIZE(image):\n",
    "        DAY_VECTORS = image.reduceToVectors(**{\n",
    "            \"geometry\" : AOI,\n",
    "            \"scale\" : LANDSAT_SCALE,\n",
    "            \"eightConnected\" : True,\n",
    "            \"maxPixels\" : 1e12,\n",
    "            \"geometryType\" : 'polygon'\n",
    "        });\n",
    "        return DAY_VECTORS.set('DATE_ACQUIRED',image.get('DATE_ACQUIRED'));\n",
    "    return VECTORIZE;\n",
    "\n",
    "# Add area info to filter out isolated pixels\n",
    "def ADDPROPS_FEAT(feature): \n",
    "    return feature.set({'AREA' : feature.area(LANDSAT_SCALE)});\n",
    "\n",
    "def WRAP_COL_FOR_AOI(AOI):\n",
    "    def WRAP_COL(collection):\n",
    "        collection = (ee.FeatureCollection(collection).map(ADDPROPS_FEAT)\n",
    "            .filterMetadata('AREA', 'greater_than', MIN_PIX * LANDSAT_SCALE * LANDSAT_SCALE));\n",
    "        time_start = collection.get('DATE_ACQUIRED');\n",
    "        collection.map(lambda feature: feature.set({'DATE_ACQUIRED' : time_start}));\n",
    "        geom = collection.geometry();\n",
    "        geom_smooth = collection.geometry().simplify(**{'maxError' : SIMPLIFY_TOLERANCE_N*LANDSAT_SCALE});\n",
    "        polygon = AOI.geometry(); #this is the polygon of the AOI/DGO\n",
    "        polygon_smooth = AOI.geometry().simplify(**{'maxError' : SIMPLIFY_TOLERANCE_N*LANDSAT_SCALE})\n",
    "\n",
    "        return ee.Feature(geom, {\n",
    "            'TOTAL_PERIM' : geom.perimeter(LANDSAT_SCALE),\n",
    "            'AREA' : geom.area(LANDSAT_SCALE),\n",
    "            'TOTAL_PERIM_SMOOTH' : geom_smooth.perimeter(LANDSAT_SCALE),\n",
    "            'AREA_SMOOTH' : geom_smooth.area(LANDSAT_SCALE),\n",
    "            'AREA_POLYGON' : polygon_smooth.area(LANDSAT_SCALE), # this is the polygon of the AOI/DGO\n",
    "            'SENSING_TIME' : collection.get('DATE_ACQUIRED')\n",
    "        });\n",
    "    return WRAP_COL;\n",
    "\n",
    "def WATER_VEC(AOI, ImColl):\n",
    "    WVEC = ImColl.map(VECTORIZE_FOR_AOI(AOI));\n",
    "    return ee.FeatureCollection(WVEC.map(WRAP_COL_FOR_AOI(AOI)));\n",
    "\n",
    "\n",
    "import os\n",
    "RIVER_PROPERTIES = [];\n",
    "CLOUD_FILTER = 80;\n",
    "CLOUD_FILTER_2 = 98; # Default 98\n",
    "FILE_NAME = \"Lhasa/Lhasa_Sentinel_Data-CC-80.csv\";\n",
    "# TODO: Read DGO Count from shp \n",
    "# Do 22 Dgos\n",
    "for i in range(1, 77):\n",
    "    # TODO: Print using ipython notify (progress bar...)    \n",
    "    RIVER_PROPERTIES = [];\n",
    "    print(\"DGO:\", i, \"/\", 77);\n",
    "    AOI, LANDSAT, IS_WATER_MNDWI = process_polygon(shp=lhasa_shp, dgo=i, START_DATE='1980-01-01', END_DATE='2100-01-01');\n",
    "    ISWV_MNDWI = WATER_VEC(AOI, IS_WATER_MNDWI);\n",
    "    info = ISWV_MNDWI.getInfo(); # PROCESS AND PULL RESULT\n",
    "    property_list = map(lambda x: {\n",
    "            \"ID\": i,\n",
    "            \"Tile_ID\": x['id'],\n",
    "            **x['properties']\n",
    "        }, info['features']);\n",
    "    # Map over properties (calculate Braiding Index e.t.c.)\n",
    "    RIVER_PROPERTIES += list(property_list);\n",
    "    if(os.path.exists(FILE_NAME)):\n",
    "        df = pd.read_csv(FILE_NAME, index_col=0);\n",
    "        df = pd.concat([df, pd.DataFrame(RIVER_PROPERTIES)]);\n",
    "    else:\n",
    "        df = pd.DataFrame(RIVER_PROPERTIES);\n",
    "    df = df.loc[:, ~df.columns.str.contains('^Unnamed')];\n",
    "    df.to_csv(FILE_NAME);    \n",
    "print(\"Done!\");"
   ]
  },
  {
   "cell_type": "code",
   "execution_count": 9,
   "metadata": {},
   "outputs": [
    {
     "ename": "EEException",
     "evalue": "Date: Parameter 'value' is required.",
     "output_type": "error",
     "traceback": [
      "\u001B[0;31m---------------------------------------------------------------------------\u001B[0m",
      "\u001B[0;31mHttpError\u001B[0m                                 Traceback (most recent call last)",
      "File \u001B[0;32m/projects/EVS-Sisyphe/Vienney/env/lib/python3.11/site-packages/ee/data.py:345\u001B[0m, in \u001B[0;36m_execute_cloud_call\u001B[0;34m(call, num_retries)\u001B[0m\n\u001B[1;32m    344\u001B[0m \u001B[38;5;28;01mtry\u001B[39;00m:\n\u001B[0;32m--> 345\u001B[0m   \u001B[38;5;28;01mreturn\u001B[39;00m \u001B[43mcall\u001B[49m\u001B[38;5;241;43m.\u001B[39;49m\u001B[43mexecute\u001B[49m\u001B[43m(\u001B[49m\u001B[43mnum_retries\u001B[49m\u001B[38;5;241;43m=\u001B[39;49m\u001B[43mnum_retries\u001B[49m\u001B[43m)\u001B[49m\n\u001B[1;32m    346\u001B[0m \u001B[38;5;28;01mexcept\u001B[39;00m googleapiclient\u001B[38;5;241m.\u001B[39merrors\u001B[38;5;241m.\u001B[39mHttpError \u001B[38;5;28;01mas\u001B[39;00m e:\n",
      "File \u001B[0;32m/projects/EVS-Sisyphe/Vienney/env/lib/python3.11/site-packages/googleapiclient/_helpers.py:130\u001B[0m, in \u001B[0;36mpositional.<locals>.positional_decorator.<locals>.positional_wrapper\u001B[0;34m(*args, **kwargs)\u001B[0m\n\u001B[1;32m    129\u001B[0m         logger\u001B[38;5;241m.\u001B[39mwarning(message)\n\u001B[0;32m--> 130\u001B[0m \u001B[38;5;28;01mreturn\u001B[39;00m \u001B[43mwrapped\u001B[49m\u001B[43m(\u001B[49m\u001B[38;5;241;43m*\u001B[39;49m\u001B[43margs\u001B[49m\u001B[43m,\u001B[49m\u001B[43m \u001B[49m\u001B[38;5;241;43m*\u001B[39;49m\u001B[38;5;241;43m*\u001B[39;49m\u001B[43mkwargs\u001B[49m\u001B[43m)\u001B[49m\n",
      "File \u001B[0;32m/projects/EVS-Sisyphe/Vienney/env/lib/python3.11/site-packages/googleapiclient/http.py:938\u001B[0m, in \u001B[0;36mHttpRequest.execute\u001B[0;34m(self, http, num_retries)\u001B[0m\n\u001B[1;32m    937\u001B[0m \u001B[38;5;28;01mif\u001B[39;00m resp\u001B[38;5;241m.\u001B[39mstatus \u001B[38;5;241m>\u001B[39m\u001B[38;5;241m=\u001B[39m \u001B[38;5;241m300\u001B[39m:\n\u001B[0;32m--> 938\u001B[0m     \u001B[38;5;28;01mraise\u001B[39;00m HttpError(resp, content, uri\u001B[38;5;241m=\u001B[39m\u001B[38;5;28mself\u001B[39m\u001B[38;5;241m.\u001B[39muri)\n\u001B[1;32m    939\u001B[0m \u001B[38;5;28;01mreturn\u001B[39;00m \u001B[38;5;28mself\u001B[39m\u001B[38;5;241m.\u001B[39mpostproc(resp, content)\n",
      "\u001B[0;31mHttpError\u001B[0m: <HttpError 400 when requesting https://earthengine.googleapis.com/v1alpha/projects/earthengine-legacy/value:compute?prettyPrint=false&alt=json returned \"Date: Parameter 'value' is required.\". Details: \"Date: Parameter 'value' is required.\">",
      "\nDuring handling of the above exception, another exception occurred:\n",
      "\u001B[0;31mEEException\u001B[0m                               Traceback (most recent call last)",
      "Cell \u001B[0;32mIn[9], line 27\u001B[0m\n\u001B[1;32m     25\u001B[0m \u001B[38;5;28;01mfor\u001B[39;00m image \u001B[38;5;129;01min\u001B[39;00m \u001B[38;5;28mrange\u001B[39m(image_list\u001B[38;5;241m.\u001B[39mlength()\u001B[38;5;241m.\u001B[39mgetInfo()):\n\u001B[1;32m     26\u001B[0m     image \u001B[38;5;241m=\u001B[39m ee\u001B[38;5;241m.\u001B[39mImage(image)\n\u001B[0;32m---> 27\u001B[0m     date \u001B[38;5;241m=\u001B[39m \u001B[43mee\u001B[49m\u001B[38;5;241;43m.\u001B[39;49m\u001B[43mDate\u001B[49m\u001B[43m(\u001B[49m\u001B[43mimage\u001B[49m\u001B[38;5;241;43m.\u001B[39;49m\u001B[43mget\u001B[49m\u001B[43m(\u001B[49m\u001B[38;5;124;43m'\u001B[39;49m\u001B[38;5;124;43msystem:time_start\u001B[39;49m\u001B[38;5;124;43m'\u001B[39;49m\u001B[43m)\u001B[49m\u001B[43m)\u001B[49m\u001B[38;5;241;43m.\u001B[39;49m\u001B[43mformat\u001B[49m\u001B[43m(\u001B[49m\u001B[38;5;124;43m'\u001B[39;49m\u001B[38;5;124;43mYYYY-MM-dd\u001B[39;49m\u001B[38;5;124;43m'\u001B[39;49m\u001B[43m)\u001B[49m\u001B[38;5;241;43m.\u001B[39;49m\u001B[43mgetInfo\u001B[49m\u001B[43m(\u001B[49m\u001B[43m)\u001B[49m\n\u001B[1;32m     28\u001B[0m     filename \u001B[38;5;241m=\u001B[39m \u001B[38;5;124mf\u001B[39m\u001B[38;5;124m\"\u001B[39m\u001B[38;5;124mLANDSAT_\u001B[39m\u001B[38;5;132;01m{\u001B[39;00mdate\u001B[38;5;132;01m}\u001B[39;00m\u001B[38;5;124m.tif\u001B[39m\u001B[38;5;124m\"\u001B[39m\n\u001B[1;32m     29\u001B[0m     geemap\u001B[38;5;241m.\u001B[39mee_export_image(image, filename\u001B[38;5;241m=\u001B[39mfilename, scale\u001B[38;5;241m=\u001B[39m\u001B[38;5;241m90\u001B[39m, file_per_band\u001B[38;5;241m=\u001B[39m\u001B[38;5;28;01mTrue\u001B[39;00m, out_dir\u001B[38;5;241m=\u001B[39m\u001B[38;5;124m\"\u001B[39m\u001B[38;5;124m./out_dir/\u001B[39m\u001B[38;5;124m\"\u001B[39m)\n",
      "File \u001B[0;32m/projects/EVS-Sisyphe/Vienney/env/lib/python3.11/site-packages/ee/computedobject.py:96\u001B[0m, in \u001B[0;36mComputedObject.getInfo\u001B[0;34m(self)\u001B[0m\n\u001B[1;32m     90\u001B[0m \u001B[38;5;28;01mdef\u001B[39;00m \u001B[38;5;21mgetInfo\u001B[39m(\u001B[38;5;28mself\u001B[39m):\n\u001B[1;32m     91\u001B[0m \u001B[38;5;250m  \u001B[39m\u001B[38;5;124;03m\"\"\"Fetch and return information about this object.\u001B[39;00m\n\u001B[1;32m     92\u001B[0m \n\u001B[1;32m     93\u001B[0m \u001B[38;5;124;03m  Returns:\u001B[39;00m\n\u001B[1;32m     94\u001B[0m \u001B[38;5;124;03m    The object can evaluate to anything.\u001B[39;00m\n\u001B[1;32m     95\u001B[0m \u001B[38;5;124;03m  \"\"\"\u001B[39;00m\n\u001B[0;32m---> 96\u001B[0m   \u001B[38;5;28;01mreturn\u001B[39;00m \u001B[43mdata\u001B[49m\u001B[38;5;241;43m.\u001B[39;49m\u001B[43mcomputeValue\u001B[49m\u001B[43m(\u001B[49m\u001B[38;5;28;43mself\u001B[39;49m\u001B[43m)\u001B[49m\n",
      "File \u001B[0;32m/projects/EVS-Sisyphe/Vienney/env/lib/python3.11/site-packages/ee/data.py:954\u001B[0m, in \u001B[0;36mcomputeValue\u001B[0;34m(obj)\u001B[0m\n\u001B[1;32m    951\u001B[0m body \u001B[38;5;241m=\u001B[39m {\u001B[38;5;124m'\u001B[39m\u001B[38;5;124mexpression\u001B[39m\u001B[38;5;124m'\u001B[39m: serializer\u001B[38;5;241m.\u001B[39mencode(obj, for_cloud_api\u001B[38;5;241m=\u001B[39m\u001B[38;5;28;01mTrue\u001B[39;00m)}\n\u001B[1;32m    952\u001B[0m _maybe_populate_workload_tag(body)\n\u001B[0;32m--> 954\u001B[0m \u001B[38;5;28;01mreturn\u001B[39;00m \u001B[43m_execute_cloud_call\u001B[49m\u001B[43m(\u001B[49m\n\u001B[1;32m    955\u001B[0m \u001B[43m    \u001B[49m\u001B[43m_get_cloud_projects\u001B[49m\u001B[43m(\u001B[49m\u001B[43m)\u001B[49m\n\u001B[1;32m    956\u001B[0m \u001B[43m    \u001B[49m\u001B[38;5;241;43m.\u001B[39;49m\u001B[43mvalue\u001B[49m\u001B[43m(\u001B[49m\u001B[43m)\u001B[49m\n\u001B[1;32m    957\u001B[0m \u001B[43m    \u001B[49m\u001B[38;5;241;43m.\u001B[39;49m\u001B[43mcompute\u001B[49m\u001B[43m(\u001B[49m\u001B[43mbody\u001B[49m\u001B[38;5;241;43m=\u001B[39;49m\u001B[43mbody\u001B[49m\u001B[43m,\u001B[49m\u001B[43m \u001B[49m\u001B[43mproject\u001B[49m\u001B[38;5;241;43m=\u001B[39;49m\u001B[43m_get_projects_path\u001B[49m\u001B[43m(\u001B[49m\u001B[43m)\u001B[49m\u001B[43m,\u001B[49m\u001B[43m \u001B[49m\u001B[43mprettyPrint\u001B[49m\u001B[38;5;241;43m=\u001B[39;49m\u001B[38;5;28;43;01mFalse\u001B[39;49;00m\u001B[43m)\u001B[49m\n\u001B[1;32m    958\u001B[0m \u001B[43m\u001B[49m\u001B[43m)\u001B[49m[\u001B[38;5;124m'\u001B[39m\u001B[38;5;124mresult\u001B[39m\u001B[38;5;124m'\u001B[39m]\n",
      "File \u001B[0;32m/projects/EVS-Sisyphe/Vienney/env/lib/python3.11/site-packages/ee/data.py:347\u001B[0m, in \u001B[0;36m_execute_cloud_call\u001B[0;34m(call, num_retries)\u001B[0m\n\u001B[1;32m    345\u001B[0m   \u001B[38;5;28;01mreturn\u001B[39;00m call\u001B[38;5;241m.\u001B[39mexecute(num_retries\u001B[38;5;241m=\u001B[39mnum_retries)\n\u001B[1;32m    346\u001B[0m \u001B[38;5;28;01mexcept\u001B[39;00m googleapiclient\u001B[38;5;241m.\u001B[39merrors\u001B[38;5;241m.\u001B[39mHttpError \u001B[38;5;28;01mas\u001B[39;00m e:\n\u001B[0;32m--> 347\u001B[0m   \u001B[38;5;28;01mraise\u001B[39;00m _translate_cloud_exception(e)\n",
      "\u001B[0;31mEEException\u001B[0m: Date: Parameter 'value' is required."
     ]
    }
   ],
   "source": [
    "LANDSAT_FULL = (ee.ImageCollection('LANDSAT/LC08/C02/T1_L2')\n",
    "        .select(['SR_B2', 'SR_B3', 'SR_B4', 'SR_B5','SR_B6','SR_B7','QA_PIXEL'])\n",
    "        .map(lambda image: image.rename(['B1', 'B2', 'B3', 'B4','B5','B7','QA_PIXEL'])));\n",
    "LANDSAT_FULL = (LANDSAT_FULL\n",
    "                    .merge(ee.ImageCollection('LANDSAT/LE07/C02/T1_L2').select(['SR_B1', 'SR_B2', 'SR_B3', 'SR_B4','SR_B5','SR_B7','QA_PIXEL']))\n",
    "                    .map(lambda image: image.rename(['B1', 'B2', 'B3', 'B4','B5','B7','QA_PIXEL']))\n",
    "                    .merge(ee.ImageCollection('LANDSAT/LT05/C02/T1_L2').select(['SR_B1', 'SR_B2', 'SR_B3', 'SR_B4','SR_B5','SR_B7','QA_PIXEL']))\n",
    "                    .map(lambda image: image.rename(['B1', 'B2', 'B3', 'B4','B5','B7','QA_PIXEL']))\n",
    "                    .merge(ee.ImageCollection('LANDSAT/LT04/C02/T1_L2').select(['SR_B1', 'SR_B2', 'SR_B3', 'SR_B4','SR_B5','SR_B7','QA_PIXEL']))\n",
    "                    .map(lambda image: image.rename(['B1', 'B2', 'B3', 'B4','B5','B7','QA_PIXEL']))   \n",
    "                );\n",
    "START_DATE='1980-01-01';\n",
    "END_DATE='2022-06-02';\n",
    "CLOUD_FILTER = 80;\n",
    "BATCH_SIZE = 100;\n",
    "\n",
    "LANDSAT = (LANDSAT_FULL\n",
    "    .filterDate(START_DATE, END_DATE)\n",
    "    .filter(ee.Filter.lte('CLOUD_COVER', CLOUD_FILTER)) # COVERAGE CHECK (CC) AT THE IMAGE LEVEL!\n",
    "    .map(maskL8sr)\n",
    "    .filterBounds(lhasa_shp));\n",
    "\n",
    "image_list = LANDSAT.toList(LANDSAT.size().getInfo())\n",
    "\n",
    "for image in range(image_list.length().getInfo()):\n",
    "    image = ee.Image(image)\n",
    "    date = ee.Date(image.get('system:time_start')).format('YYYY-MM-dd').getInfo()\n",
    "    filename = f\"LANDSAT_{date}.tif\"\n",
    "    geemap.ee_export_image(image, filename=filename, scale=90, file_per_band=True, out_dir=\"./out_dir/\")\n",
    "    #geemap.ee_export_image_collection(LANDSAT, out_dir=\"./out_dir/\")\n",
    "# geemap.ee_export_image(image, filename='test.tif', scale=90, file_per_band=True)"
   ]
  },
  {
   "cell_type": "code",
   "execution_count": null,
   "metadata": {},
   "outputs": [],
   "source": [
    "LANDSAT_FULL = (ee.ImageCollection('LANDSAT/LC08/C02/T1_L2')\n",
    "        .select(['SR_B2', 'SR_B3', 'SR_B4', 'SR_B5','SR_B6','SR_B7','QA_PIXEL'])\n",
    "        .map(lambda image: image.rename(['B1', 'B2', 'B3', 'B4','B5','B7','QA_PIXEL'])));\n",
    "LANDSAT_FULL = (LANDSAT_FULL\n",
    "                    .merge(ee.ImageCollection('LANDSAT/LE07/C02/T1_L2').select(['SR_B1', 'SR_B2', 'SR_B3', 'SR_B4','SR_B5','SR_B7','QA_PIXEL']))\n",
    "                    .map(lambda image: image.rename(['B1', 'B2', 'B3', 'B4','B5','B7','QA_PIXEL']))\n",
    "                    .merge(ee.ImageCollection('LANDSAT/LT05/C02/T1_L2').select(['SR_B1', 'SR_B2', 'SR_B3', 'SR_B4','SR_B5','SR_B7','QA_PIXEL']))\n",
    "                    .map(lambda image: image.rename(['B1', 'B2', 'B3', 'B4','B5','B7','QA_PIXEL']))\n",
    "                    .merge(ee.ImageCollection('LANDSAT/LT04/C02/T1_L2').select(['SR_B1', 'SR_B2', 'SR_B3', 'SR_B4','SR_B5','SR_B7','QA_PIXEL']))\n",
    "                    .map(lambda image: image.rename(['B1', 'B2', 'B3', 'B4','B5','B7','QA_PIXEL']))   \n",
    "                );\n",
    "START_DATE='1980-01-01';\n",
    "END_DATE='1989-01-01';\n",
    "CLOUD_FILTER = 80;\n",
    "\n",
    "LANDSAT = (LANDSAT_FULL\n",
    "    .filterDate(START_DATE, END_DATE)\n",
    "    .filter(ee.Filter.lte('CLOUD_COVER', CLOUD_FILTER)) # COVERAGE CHECK (CC) AT THE IMAGE LEVEL!\n",
    "    .map(maskL8sr)\n",
    "    .filterBounds(lhasa_shp));\n",
    "\n",
    "geemap.ee_export_image_collection(LANDSAT, out_dir=\"./out_dir/\")\n",
    "# geemap.ee_export_image(image, filename='test.tif', scale=90, file_per_band=True)"
   ]
  },
  {
   "cell_type": "code",
   "execution_count": null,
   "metadata": {
    "jupyter": {
     "outputs_hidden": true
    },
    "tags": []
   },
   "outputs": [],
   "source": [
    "df = pd.read_csv(\"test.csv\")\n",
    "df['BRAIDING_INDEX'] = (df['TOTAL_PERIM_SMOOTH']/2)/2000; # Calculate braiding index\n",
    "df"
   ]
  },
  {
   "cell_type": "code",
   "execution_count": null,
   "metadata": {},
   "outputs": [],
   "source": [
    "df_c = df.copy();\n",
    "\n",
    "fig, axs = plt.subplots(9, 9, figsize=(24, 18), constrained_layout=True);\n",
    "axs = axs.flatten();\n",
    "for k, v in enumerate(range(1, 77)):\n",
    "    df_d = df_c[df_c[\"ID\"] == v];\n",
    "    axs[k].set_title(v);\n",
    "    axs[k].plot(df_d[\"SENSING_TIME\"], df_d[\"BRAIDING_INDEX\"], '+');"
   ]
  },
  {
   "cell_type": "code",
   "execution_count": null,
   "metadata": {},
   "outputs": [],
   "source": [
    "# For call:\n",
    "# Maybe try to get things working for Nelly...\n",
    "# Python 3.10: https://github.com/google/earthengine-api/issues/181\n",
    "# Python 3.9: Works\n",
    "# Modules:\n",
    "# numpy, pandas, matplotlib\n",
    "# For Windows: pipwin gdal, fiona\n",
    "# geemap, geopandas, ee\n",
    "# TODO List:\n",
    "# Fix laptop (DONE)\n",
    "# Fix ownCloud (DONE)\n",
    "# Email Eric about structure/limits of M1 Report (DONE) [reponse]\n",
    "\n",
    "\n",
    "# Barbara:\n",
    "# Look into making algorithm faster (doing all 78 in one pass?) [Currently it takes 1H to run...]\n",
    "    # MAYBE I can run multiple .info() in seperate threads(??) (does google allow multiple requests like this?)\n",
    "    # Cannot map over DGOs in a shape in a single command...\n",
    "    # PERHAPS modify process_polygon (make it general) move it out of the loop!\n",
    "    # Do process_polygon on ALL DGOs first - we can REUSE the same water map accordingly\n",
    "    # Remove coordinates from object before sending it to clientside\n",
    "# Try to make mosaic to avoid overlapping values. (Look at google earth api)\n",
    "# https://developers.google.com/earth-engine/guides/ic_composite_mosaic\n",
    "\n",
    "# Run again to extract SENTINEL data (from high-res sattelites)\n",
    "  # REF: Barbara's email\n",
    "# [Comparison between Sentinel & Landsat Data]\n",
    "# Support for downloading tiles from meta information --> to use for GIS fieldwork\n",
    "\n",
    "# Nelly/Patrice:\n",
    "# Document installation procedure\n",
    "# Reorganise repository \n",
    "# Write README.md\n",
    "\n",
    "# For Monday:\n",
    "# - extract the 4 channel images for the 200 timeslots and share them with me [finer scale analysis?]\n",
    "# - extracted cvs. + processed data with l1 optimisation method for 3 differet level of cloud threshold\n"
   ]
  }
 ],
 "metadata": {
  "interpreter": {
   "hash": "03689dae94c77a64fdb1b923ddbaa3b187c669e3f6899ecb999a7e0929ec7ec3"
  },
  "kernelspec": {
   "name": "python3",
   "language": "python",
   "display_name": "Python 3 (ipykernel)"
  },
  "language_info": {
   "codemirror_mode": {
    "name": "ipython",
    "version": 3
   },
   "file_extension": ".py",
   "mimetype": "text/x-python",
   "name": "python",
   "nbconvert_exporter": "python",
   "pygments_lexer": "ipython3",
   "version": "3.11.3"
  },
  "vscode": {
   "interpreter": {
    "hash": "5b3ded1ccb95c1d9bd405e7b823d9e85424cde40fbb5985eb47e999ef50e15b4"
   }
  }
 },
 "nbformat": 4,
 "nbformat_minor": 4
}
